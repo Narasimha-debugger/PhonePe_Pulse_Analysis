{
 "cells": [
  {
   "cell_type": "code",
   "execution_count": 2,
   "id": "0a59922e",
   "metadata": {},
   "outputs": [
    {
     "ename": "ImportError",
     "evalue": "cannot import name 'sql_query_runner' from 'Streamlit_App' (unknown location)",
     "output_type": "error",
     "traceback": [
      "\u001b[1;31m---------------------------------------------------------------------------\u001b[0m",
      "\u001b[1;31mImportError\u001b[0m                               Traceback (most recent call last)",
      "Cell \u001b[1;32mIn[2], line 1\u001b[0m\n\u001b[1;32m----> 1\u001b[0m \u001b[38;5;28;01mfrom\u001b[39;00m\u001b[38;5;250m \u001b[39m\u001b[38;5;21;01mStreamlit_App\u001b[39;00m\u001b[38;5;250m \u001b[39m\u001b[38;5;28;01mimport\u001b[39;00m sql_query_runner\n\u001b[0;32m      2\u001b[0m \u001b[38;5;66;03m#### SQL Query for Enitre Page ###############\u001b[39;00m\n\u001b[0;32m      3\u001b[0m query\u001b[38;5;241m=\u001b[39m\u001b[38;5;124m\"\"\"\u001b[39m\u001b[38;5;124mSELECT * FROM phonepe_pulse.map_insurance;\u001b[39m\u001b[38;5;124m\"\"\"\u001b[39m\n",
      "\u001b[1;31mImportError\u001b[0m: cannot import name 'sql_query_runner' from 'Streamlit_App' (unknown location)"
     ]
    }
   ],
   "source": [
    "from Streamlit_App import sql_query_runner\n",
    "#### SQL Query for Enitre Page ###############\n",
    "query=\"\"\"SELECT * FROM phonepe_pulse.map_insurance;\"\"\"\n",
    "\n",
    "### running sql query runner function to get the dataframe for above sql query\n",
    "sql_df=sql_query_runner(query)\n",
    "sql_df.columns=sql_df.columns.str.lower()"
   ]
  },
  {
   "cell_type": "code",
   "execution_count": 3,
   "id": "3d9b95a8",
   "metadata": {},
   "outputs": [
    {
     "name": "stdout",
     "output_type": "stream",
     "text": [
      "Index(['st_nm', 'id', 'district', 'dt_code', 'st_code', 'year', 'geometry'], dtype='object')\n",
      "                         st_nm                           id  \\\n",
      "0  Andaman and Nicobar Islands  Andaman and Nicobar Islands   \n",
      "1               Andhra Pradesh               Andhra Pradesh   \n",
      "2            Arunachal Pradesh            Arunachal Pradesh   \n",
      "3                        Assam                        Assam   \n",
      "4                        Bihar                        Bihar   \n",
      "\n",
      "                   district dt_code st_code    year  \\\n",
      "0  North and Middle Andaman     639      35  2011_c   \n",
      "1                Srikakulam     542      37  2011_c   \n",
      "2           Upper Subansiri     249      12  2011_c   \n",
      "3                  Tinsukia     309      18  2011_c   \n",
      "4            West Champaran     203      10  2011_c   \n",
      "\n",
      "                                            geometry  \n",
      "0  MULTIPOLYGON (((93.8689 7.20492, 93.91477 6.94...  \n",
      "1  POLYGON ((79.1627 13.02013, 78.99449 13.08612,...  \n",
      "2  POLYGON ((92.67307 27.03163, 92.65625 27.00826...  \n",
      "3  POLYGON ((92.53239 24.17764, 92.43605 24.15427...  \n",
      "4  POLYGON ((85.02866 24.41547, 84.90327 24.37285...  \n",
      "Total unique districts: 36\n",
      "Sample districts: ['North and Middle Andaman' 'Srikakulam' 'Upper Subansiri' 'Tinsukia'\n",
      " 'West Champaran' 'Chandigarh' 'Mahasamund' 'Dadra and Nagar Haveli'\n",
      " 'Delhi' 'North Goa']\n"
     ]
    }
   ],
   "source": [
    "import geopandas as gpd\n",
    "\n",
    "# Path to your GeoJSON file\n",
    "geojson_path = r\"C:\\Users\\nagan\\OneDrive\\Desktop\\Guvi\\Project\\PhonePe\\India_Map_New.geojson\"\n",
    "\n",
    "# Read the GeoJSON file\n",
    "gdf = gpd.read_file(geojson_path)\n",
    "\n",
    "# Check what columns are available\n",
    "print(gdf.columns)\n",
    "\n",
    "# See the first few rows\n",
    "print(gdf.head())\n",
    "\n",
    "# Get unique districts\n",
    "unique_districts = gdf['district'].unique()\n",
    "\n",
    "# Show count and few examples\n",
    "print(\"Total unique districts:\", len(unique_districts))\n",
    "print(\"Sample districts:\", unique_districts[:10])\n"
   ]
  },
  {
   "cell_type": "code",
   "execution_count": 4,
   "id": "e10b7f47",
   "metadata": {},
   "outputs": [
    {
     "data": {
      "text/plain": [
       "array(['North and Middle Andaman', 'Srikakulam', 'Upper Subansiri',\n",
       "       'Tinsukia', 'West Champaran', 'Chandigarh', 'Mahasamund',\n",
       "       'Dadra and Nagar Haveli', 'Delhi', 'North Goa', 'Valsad',\n",
       "       'Jhajjar', 'Lahaul and Spiti', 'Kupwara', 'Sahibganj', 'Bidar',\n",
       "       'Kasaragod', 'Leh', 'Lakshadweep', 'Burhanpur', 'Gondia',\n",
       "       'Kamjong', 'Ribhoi', 'Aizawl', 'Mon', 'Bhadrak', 'Puducherry',\n",
       "       'Gurdaspur', 'Churu', 'North Sikkim', 'Thiruvallur', 'Adilabad',\n",
       "       'North Tripura', 'Amroha', 'Uttarkashi', 'South 24 Parganas'],\n",
       "      dtype=object)"
      ]
     },
     "execution_count": 4,
     "metadata": {},
     "output_type": "execute_result"
    }
   ],
   "source": [
    "unique_districts"
   ]
  },
  {
   "cell_type": "code",
   "execution_count": null,
   "id": "2f5496bd",
   "metadata": {},
   "outputs": [],
   "source": []
  }
 ],
 "metadata": {
  "kernelspec": {
   "display_name": "venv",
   "language": "python",
   "name": "python3"
  },
  "language_info": {
   "codemirror_mode": {
    "name": "ipython",
    "version": 3
   },
   "file_extension": ".py",
   "mimetype": "text/x-python",
   "name": "python",
   "nbconvert_exporter": "python",
   "pygments_lexer": "ipython3",
   "version": "3.10.4"
  }
 },
 "nbformat": 4,
 "nbformat_minor": 5
}
